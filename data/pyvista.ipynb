{
 "cells": [
  {
   "cell_type": "code",
   "execution_count": 1,
   "metadata": {},
   "outputs": [],
   "source": [
    "import numpy as np\n",
    "\n",
    "import ufl\n",
    "from dolfinx import fem, io, mesh, plot\n",
    "from ufl import ds, dx, grad, inner\n",
    "\n",
    "from mpi4py import MPI\n",
    "from petsc4py.PETSc import ScalarType\n",
    "\n",
    "msh = mesh.create_rectangle(comm=MPI.COMM_WORLD,\n",
    "                            points=((0.0, 0.0), (1.0, 1.0)), n=(8, 8),\n",
    "                            cell_type=mesh.CellType.triangle,)\n",
    "V = fem.FunctionSpace(msh, (\"Lagrange\", 1))\n",
    "\n",
    "facets = mesh.locate_entities_boundary(msh, dim=(msh.topology.dim - 1),\n",
    "                                       marker=lambda x: np.isclose(x[0], 0.0) | \\\n",
    "                                                        np.isclose(x[0], 1.0) | \\\n",
    "                                                        np.isclose(x[1], 0.0) | \\\n",
    "                                                        np.isclose(x[1], 1.0))\n",
    "\n",
    "dofs = fem.locate_dofs_topological(V=V, entity_dim=1, entities=facets)\n",
    "bc = fem.dirichletbc(value=ScalarType(0), dofs=dofs, V=V)\n",
    "\n",
    "# Define variational problem\n",
    "u = ufl.TrialFunction(V)\n",
    "v = ufl.TestFunction(V)\n",
    "x = ufl.SpatialCoordinate(msh)\n",
    "f = 10 * ufl.exp(-((x[0] - 0.5) ** 2 + (x[1] - 0.5) ** 2) / 0.02)\n",
    "a = inner(grad(u), grad(v)) * dx\n",
    "L = inner(f, v) * dx\n",
    "\n",
    "# Solve\n",
    "problem = fem.petsc.LinearProblem(a, L, bcs=[bc], petsc_options={\"ksp_type\": \"preonly\", \"pc_type\": \"lu\"})\n",
    "uh = problem.solve()"
   ]
  },
  {
   "cell_type": "code",
   "execution_count": 2,
   "metadata": {},
   "outputs": [],
   "source": [
    "import pyvista\n",
    "cells, types, x = plot.create_vtk_mesh(V)"
   ]
  },
  {
   "cell_type": "code",
   "execution_count": 24,
   "metadata": {},
   "outputs": [
    {
     "data": {
      "text/plain": [
       "128.0"
      ]
     },
     "execution_count": 24,
     "metadata": {},
     "output_type": "execute_result"
    }
   ],
   "source": []
  },
  {
   "cell_type": "code",
   "execution_count": 18,
   "metadata": {},
   "outputs": [
    {
     "data": {
      "text/plain": [
       "array([[ 8.75000000e-01, -2.69278509e-18],\n",
       "       [ 1.00000000e+00, -2.69278509e-18],\n",
       "       [ 1.00000000e+00,  1.25000000e-01],\n",
       "       [ 8.75000000e-01,  1.25000000e-01],\n",
       "       [ 7.50000000e-01, -2.69278509e-18],\n",
       "       [ 1.00000000e+00,  2.50000000e-01],\n",
       "       [ 7.50000000e-01,  1.25000000e-01],\n",
       "       [ 8.75000000e-01,  2.50000000e-01],\n",
       "       [ 6.25000000e-01, -2.69278509e-18],\n",
       "       [ 1.00000000e+00,  3.75000000e-01],\n",
       "       [ 6.25000000e-01,  1.25000000e-01],\n",
       "       [ 7.50000000e-01,  2.50000000e-01],\n",
       "       [ 8.75000000e-01,  3.75000000e-01],\n",
       "       [ 5.00000000e-01, -2.69278509e-18],\n",
       "       [ 1.00000000e+00,  5.00000000e-01],\n",
       "       [ 5.00000000e-01,  1.25000000e-01],\n",
       "       [ 6.25000000e-01,  2.50000000e-01],\n",
       "       [ 7.50000000e-01,  3.75000000e-01],\n",
       "       [ 8.75000000e-01,  5.00000000e-01],\n",
       "       [ 3.75000000e-01, -2.69278509e-18],\n",
       "       [ 1.00000000e+00,  6.25000000e-01],\n",
       "       [ 3.75000000e-01,  1.25000000e-01],\n",
       "       [ 5.00000000e-01,  2.50000000e-01],\n",
       "       [ 6.25000000e-01,  3.75000000e-01],\n",
       "       [ 7.50000000e-01,  5.00000000e-01],\n",
       "       [ 8.75000000e-01,  6.25000000e-01],\n",
       "       [ 2.50000000e-01, -2.69278509e-18],\n",
       "       [ 1.00000000e+00,  7.50000000e-01],\n",
       "       [ 2.50000000e-01,  1.25000000e-01],\n",
       "       [ 3.75000000e-01,  2.50000000e-01],\n",
       "       [ 5.00000000e-01,  3.75000000e-01],\n",
       "       [ 6.25000000e-01,  5.00000000e-01],\n",
       "       [ 7.50000000e-01,  6.25000000e-01],\n",
       "       [ 8.75000000e-01,  7.50000000e-01],\n",
       "       [ 1.25000000e-01, -2.69278509e-18],\n",
       "       [ 1.00000000e+00,  8.75000000e-01],\n",
       "       [ 1.25000000e-01,  1.25000000e-01],\n",
       "       [ 2.50000000e-01,  2.50000000e-01],\n",
       "       [ 3.75000000e-01,  3.75000000e-01],\n",
       "       [ 5.00000000e-01,  5.00000000e-01],\n",
       "       [ 6.25000000e-01,  6.25000000e-01],\n",
       "       [ 7.50000000e-01,  7.50000000e-01],\n",
       "       [ 8.75000000e-01,  8.75000000e-01],\n",
       "       [ 2.69278509e-18,  2.69278509e-18],\n",
       "       [ 1.00000000e+00,  1.00000000e+00],\n",
       "       [ 2.69278509e-18,  1.25000000e-01],\n",
       "       [ 1.25000000e-01,  2.50000000e-01],\n",
       "       [ 2.50000000e-01,  3.75000000e-01],\n",
       "       [ 3.75000000e-01,  5.00000000e-01],\n",
       "       [ 5.00000000e-01,  6.25000000e-01],\n",
       "       [ 6.25000000e-01,  7.50000000e-01],\n",
       "       [ 7.50000000e-01,  8.75000000e-01],\n",
       "       [ 8.75000000e-01,  1.00000000e+00],\n",
       "       [ 2.69278509e-18,  2.50000000e-01],\n",
       "       [ 1.25000000e-01,  3.75000000e-01],\n",
       "       [ 2.50000000e-01,  5.00000000e-01],\n",
       "       [ 3.75000000e-01,  6.25000000e-01],\n",
       "       [ 5.00000000e-01,  7.50000000e-01],\n",
       "       [ 6.25000000e-01,  8.75000000e-01],\n",
       "       [ 7.50000000e-01,  1.00000000e+00],\n",
       "       [ 2.69278509e-18,  3.75000000e-01],\n",
       "       [ 1.25000000e-01,  5.00000000e-01],\n",
       "       [ 2.50000000e-01,  6.25000000e-01],\n",
       "       [ 3.75000000e-01,  7.50000000e-01],\n",
       "       [ 5.00000000e-01,  8.75000000e-01],\n",
       "       [ 6.25000000e-01,  1.00000000e+00],\n",
       "       [ 2.69278509e-18,  5.00000000e-01],\n",
       "       [ 1.25000000e-01,  6.25000000e-01],\n",
       "       [ 2.50000000e-01,  7.50000000e-01],\n",
       "       [ 3.75000000e-01,  8.75000000e-01],\n",
       "       [ 5.00000000e-01,  1.00000000e+00],\n",
       "       [ 2.69278509e-18,  6.25000000e-01],\n",
       "       [ 1.25000000e-01,  7.50000000e-01],\n",
       "       [ 2.50000000e-01,  8.75000000e-01],\n",
       "       [ 3.75000000e-01,  1.00000000e+00],\n",
       "       [ 2.69278509e-18,  7.50000000e-01],\n",
       "       [ 1.25000000e-01,  8.75000000e-01],\n",
       "       [ 2.50000000e-01,  1.00000000e+00],\n",
       "       [ 2.69278509e-18,  8.75000000e-01],\n",
       "       [ 1.25000000e-01,  1.00000000e+00],\n",
       "       [-2.69278509e-18,  1.00000000e+00]])"
      ]
     },
     "execution_count": 18,
     "metadata": {},
     "output_type": "execute_result"
    }
   ],
   "source": [
    "x[:, 0:2]"
   ]
  },
  {
   "cell_type": "code",
   "execution_count": 14,
   "metadata": {},
   "outputs": [
    {
     "data": {
      "text/plain": [
       "384"
      ]
     },
     "execution_count": 14,
     "metadata": {},
     "output_type": "execute_result"
    }
   ],
   "source": [
    "128*3"
   ]
  },
  {
   "cell_type": "code",
   "execution_count": 20,
   "metadata": {},
   "outputs": [
    {
     "data": {
      "text/plain": [
       "<CellType.TRIANGLE: 5>"
      ]
     },
     "execution_count": 20,
     "metadata": {},
     "output_type": "execute_result"
    }
   ],
   "source": [
    "pyvista.CellType.TRIANGLE"
   ]
  },
  {
   "cell_type": "code",
   "execution_count": null,
   "metadata": {},
   "outputs": [],
   "source": []
  }
 ],
 "metadata": {
  "kernelspec": {
   "display_name": "fenicsx-env",
   "language": "python",
   "name": "python3"
  },
  "language_info": {
   "codemirror_mode": {
    "name": "ipython",
    "version": 3
   },
   "file_extension": ".py",
   "mimetype": "text/x-python",
   "name": "python",
   "nbconvert_exporter": "python",
   "pygments_lexer": "ipython3",
   "version": "3.10.9"
  },
  "orig_nbformat": 4
 },
 "nbformat": 4,
 "nbformat_minor": 2
}
