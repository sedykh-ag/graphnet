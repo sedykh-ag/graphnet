{
 "cells": [
  {
   "cell_type": "code",
   "execution_count": 18,
   "id": "c9fb29a2",
   "metadata": {},
   "outputs": [],
   "source": [
    "import xml.etree.ElementTree as ET\n",
    "from pathlib import Path\n",
    "import numpy as np\n",
    "from enum import Enum\n",
    "from collections import namedtuple"
   ]
  },
  {
   "cell_type": "code",
   "execution_count": 2,
   "id": "aa385c73",
   "metadata": {},
   "outputs": [],
   "source": [
    "Mesh = namedtuple('Mesh', ['mesh_pos', 'connectivity', 'scalar_field'])"
   ]
  },
  {
   "cell_type": "code",
   "execution_count": 3,
   "id": "8c7da4de",
   "metadata": {},
   "outputs": [],
   "source": [
    "dtypes = {\n",
    "    \"Int8\"   : int,\n",
    "    \"UInt8\"  : int,\n",
    "    \"Int16\"  : int,\n",
    "    \"UInt16\" : int,\n",
    "    \"Int32\"  : int,\n",
    "    \"UInt32\" : int,\n",
    "    \"Int64\"  : int,\n",
    "    \"UInt64\" : int,\n",
    "    \"Float32\": float,\n",
    "    \"Float64\": float}"
   ]
  },
  {
   "cell_type": "code",
   "execution_count": 4,
   "id": "01a0b8ac",
   "metadata": {},
   "outputs": [],
   "source": [
    "path_to_file = Path(\"solution.pvd\")\n",
    "# parsing solution file\n",
    "tree = ET.parse(path_to_file)\n",
    "root = tree.getroot()\n",
    "ds_path = None\n",
    "for ds in root.iter(\"DataSet\"):\n",
    "    ds_path = Path(ds.get(\"file\"))"
   ]
  },
  {
   "cell_type": "code",
   "execution_count": 5,
   "id": "1f5d46e0",
   "metadata": {},
   "outputs": [],
   "source": [
    "def parse_string(x, dtype, noc=3):\n",
    "    arr = np.fromstring(x, sep=\" \", dtype=dtype)\n",
    "    return arr.reshape(-1, noc)"
   ]
  },
  {
   "cell_type": "code",
   "execution_count": 9,
   "id": "7d25ab98",
   "metadata": {},
   "outputs": [],
   "source": [
    "def parse_solution(ds_path):\n",
    "    \n",
    "    mesh_pos = None\n",
    "    connectivity = None\n",
    "    scalar_field = None\n",
    "    \n",
    "    tree = ET.parse(ds_path)\n",
    "    root = tree.getroot()\n",
    "\n",
    "    # Points\n",
    "    for points in root.iter(\"Points\"):\n",
    "        dataArray = points.find(\"DataArray\")\n",
    "        mesh_pos = parse_string(dataArray.text, dtype=dtypes[dataArray.attrib[\"type\"]], noc=3)\n",
    "    # Cells\n",
    "    for cells in root.iter(\"Cells\"):\n",
    "        for dataArray in cells.iter(\"DataArray\"):\n",
    "            if dataArray.attrib[\"Name\"] == \"connectivity\":\n",
    "                connectivity = parse_string(dataArray.text, dtype=dtypes[dataArray.attrib[\"type\"]], noc=3)\n",
    "    # Fields\n",
    "    for pointData in root.iter(\"PointData\"):\n",
    "        for dataArray in pointData.iter(\"DataArray\"):\n",
    "            scalar_field = parse_string(dataArray.text, dtype=dtypes[dataArray.attrib[\"type\"]], noc=1)\n",
    "        \n",
    "    return Mesh(mesh_pos, connectivity, scalar_field)"
   ]
  },
  {
   "cell_type": "code",
   "execution_count": 10,
   "id": "689cffd0",
   "metadata": {},
   "outputs": [],
   "source": [
    "mesh_1 = parse_solution(ds_path)"
   ]
  },
  {
   "cell_type": "code",
   "execution_count": null,
   "id": "0302bee7",
   "metadata": {},
   "outputs": [],
   "source": []
  }
 ],
 "metadata": {
  "kernelspec": {
   "display_name": "Python 3 (ipykernel)",
   "language": "python",
   "name": "python3"
  },
  "language_info": {
   "codemirror_mode": {
    "name": "ipython",
    "version": 3
   },
   "file_extension": ".py",
   "mimetype": "text/x-python",
   "name": "python",
   "nbconvert_exporter": "python",
   "pygments_lexer": "ipython3",
   "version": "3.9.13"
  }
 },
 "nbformat": 4,
 "nbformat_minor": 5
}
