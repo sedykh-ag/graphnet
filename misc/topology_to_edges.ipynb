{
 "cells": [
  {
   "cell_type": "code",
   "execution_count": 15,
   "id": "32a31982",
   "metadata": {},
   "outputs": [],
   "source": [
    "import h5py\n",
    "import matplotlib.pyplot as plt\n",
    "\n",
    "from core import *"
   ]
  },
  {
   "cell_type": "code",
   "execution_count": 89,
   "id": "3058b1a2",
   "metadata": {},
   "outputs": [
    {
     "name": "stdout",
     "output_type": "stream",
     "text": [
      "torch.Size([81, 2])\n",
      "torch.Size([128, 3])\n",
      "torch.Size([81, 1])\n"
     ]
    }
   ],
   "source": [
    "data = h5py.File(\"data/out_poisson/poisson.h5\")\n",
    "\n",
    "geometry = torch.tensor(data[\"/Mesh/mesh/geometry\"][...], dtype=torch.float64)\n",
    "topology = torch.tensor(data[\"/Mesh/mesh/topology\"][...], dtype=torch.int32)\n",
    "func = torch.tensor(data[\"/Function/f/0\"][...], dtype=torch.float64)\n",
    "\n",
    "print(geometry.shape)\n",
    "print(topology.shape)\n",
    "print(func.shape)"
   ]
  },
  {
   "cell_type": "code",
   "execution_count": 131,
   "id": "ab6e1037",
   "metadata": {},
   "outputs": [],
   "source": [
    "def topology_to_edges(topology):\n",
    "    edges = torch.cat((topology[:, 0:2],\n",
    "                       topology[:, 1:3],\n",
    "                       torch.stack((topology[:, 2], topology[:, 0]), dim=1))).to(torch.int32)\n",
    "    \n",
    "    senders = torch.min(edges, dim=1).values\n",
    "    receivers = torch.max(edges, dim=1).values\n",
    "\n",
    "    packed_edges = torch.stack([senders, receivers], dim=1).view(torch.int64)\n",
    "    unique_edges = torch.unique(packed_edges).view(torch.int32).view(-1, 2)\n",
    "    senders, receivers = torch.unbind(unique_edges, dim=1)\n",
    "\n",
    "    return (torch.cat([senders, receivers], dim=0),\n",
    "            torch.cat([receivers, senders], dim=0))\n",
    "    "
   ]
  },
  {
   "cell_type": "code",
   "execution_count": 132,
   "id": "a3f30506",
   "metadata": {},
   "outputs": [],
   "source": [
    "senders, receivers = topology_to_edges(topology)"
   ]
  },
  {
   "cell_type": "code",
   "execution_count": 135,
   "id": "a6e631a3",
   "metadata": {},
   "outputs": [
    {
     "data": {
      "text/plain": [
       "torch.Size([416, 2])"
      ]
     },
     "execution_count": 135,
     "metadata": {},
     "output_type": "execute_result"
    }
   ],
   "source": [
    "torch.stack([senders, receivers], dim=1).shape"
   ]
  },
  {
   "cell_type": "code",
   "execution_count": 90,
   "id": "f00376ca",
   "metadata": {},
   "outputs": [
    {
     "data": {
      "image/png": "[encoded data removed]",
      "text/plain": [
       "<Figure size 640x480 with 1 Axes>"
      ]
     },
     "metadata": {},
     "output_type": "display_data"
    }
   ],
   "source": [
    "plt.figure()\n",
    "\n",
    "n = 4\n",
    "\n",
    "plt.xlim(0.0, 1.0)\n",
    "plt.ylim(0.0, 1.0)\n",
    "plt.scatter(geometry[0:n, 0], geometry[0:n, 1])\n",
    "plt.show()\n"
   ]
  },
  {
   "cell_type": "code",
   "execution_count": 92,
   "id": "2de454d3",
   "metadata": {},
   "outputs": [],
   "source": [
    "edges = torch.cat((topology[:, 0:2],\n",
    "                   topology[:, 1:3],\n",
    "                   torch.stack((topology[:, 2], topology[:, 0]), dim=1))).to(torch.int32)\n"
   ]
  },
  {
   "cell_type": "code",
   "execution_count": 93,
   "id": "0dae16f5",
   "metadata": {},
   "outputs": [],
   "source": [
    "senders = torch.min(edges, dim=1).values\n",
    "receivers = torch.max(edges, dim=1).values"
   ]
  },
  {
   "cell_type": "code",
   "execution_count": 118,
   "id": "17c8c0f2",
   "metadata": {},
   "outputs": [],
   "source": [
    "packed_edges = torch.stack([senders, receivers], dim=1).view(torch.int64)\n",
    "unique_edges = torch.unique(packed_edges).view(torch.int32).view(-1, 2)"
   ]
  },
  {
   "cell_type": "code",
   "execution_count": 127,
   "id": "5a0b53a4",
   "metadata": {},
   "outputs": [],
   "source": [
    "unique_edges[:10]\n",
    "senders, receivers = torch.unbind(unique_edges, dim=1)"
   ]
  },
  {
   "cell_type": "code",
   "execution_count": null,
   "id": "5e21ebb6",
   "metadata": {},
   "outputs": [],
   "source": []
  }
 ],
 "metadata": {
  "kernelspec": {
   "display_name": "Python 3 (ipykernel)",
   "language": "python",
   "name": "python3"
  },
  "language_info": {
   "codemirror_mode": {
    "name": "ipython",
    "version": 3
   },
   "file_extension": ".py",
   "mimetype": "text/x-python",
   "name": "python",
   "nbconvert_exporter": "python",
   "pygments_lexer": "ipython3",
   "version": "3.9.16"
  }
 },
 "nbformat": 4,
 "nbformat_minor": 5
}
