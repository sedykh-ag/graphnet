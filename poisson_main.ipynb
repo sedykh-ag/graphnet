{
 "cells": [
  {
   "cell_type": "code",
   "execution_count": 68,
   "metadata": {},
   "outputs": [],
   "source": [
    "import torch\n",
    "import h5py\n",
    "import matplotlib.pyplot as plt\n",
    "\n",
    "import common\n",
    "from core import *"
   ]
  },
  {
   "cell_type": "code",
   "execution_count": 69,
   "metadata": {},
   "outputs": [
    {
     "name": "stdout",
     "output_type": "stream",
     "text": [
      "torch.Size([81, 2])\n",
      "torch.Size([128, 3])\n",
      "torch.Size([81, 1])\n"
     ]
    }
   ],
   "source": [
    "data = h5py.File(\"data/out_poisson/poisson.h5\")\n",
    "\n",
    "geometry = torch.tensor(data[\"/Mesh/mesh/geometry\"][...], dtype=torch.float32)\n",
    "topology = torch.tensor(data[\"/Mesh/mesh/topology\"][...], dtype=torch.int32)\n",
    "func = torch.tensor(data[\"/Function/f/0\"][...], dtype=torch.float64)\n",
    "\n",
    "print(geometry.shape)\n",
    "print(topology.shape)\n",
    "print(func.shape)"
   ]
  },
  {
   "cell_type": "code",
   "execution_count": 84,
   "metadata": {},
   "outputs": [],
   "source": [
    "def on_boundary(x):\n",
    "    n = x.shape[0]\n",
    "    return torch.isclose(x[:, 0], 0.0*torch.ones(n)) | \\\n",
    "           torch.isclose(x[:, 0], 1.0*torch.ones(n)) | \\\n",
    "           torch.isclose(x[:, 1], 0.0*torch.ones(n)) | \\\n",
    "           torch.isclose(x[:, 1], 1.0*torch.ones(n))"
   ]
  },
  {
   "cell_type": "code",
   "execution_count": 106,
   "metadata": {},
   "outputs": [],
   "source": [
    "# get edges from topology\n",
    "senders, receivers = common.topology_to_edges(topology) # two way connectivity implied\n",
    "senders = senders.long()\n",
    "receivers = receivers.long()\n",
    "\n",
    "# compute mesh distances\n",
    "senders_pos = geometry[senders]\n",
    "receivers_pos = geometry[receivers]\n",
    "mesh_distances = torch.sqrt((senders_pos[:, 0] - receivers_pos[:, 0])**2 + (senders_pos[:, 1] - receivers_pos[:, 1])**2)\n",
    "\n",
    "# create edge set\n",
    "edgeset = EdgeSet(senders, receivers, mesh_distances)\n",
    "\n",
    "# create node features\n",
    "node_types = F.one_hot(on_boundary(geometry).long())\n",
    "node_features = torch.cat([func, node_types], dim=1)\n",
    "\n",
    "# create graph\n",
    "graph = MultiGraph(node_features, edgeset)"
   ]
  },
  {
   "cell_type": "code",
   "execution_count": 111,
   "metadata": {},
   "outputs": [
    {
     "data": {
      "image/png": "[encoded data removed]",
      "text/plain": [
       "<Figure size 640x480 with 1 Axes>"
      ]
     },
     "metadata": {},
     "output_type": "display_data"
    }
   ],
   "source": [
    "# visualise nodes with their types\n",
    "x_b, y_b = torch.unbind(geometry[on_boundary(geometry)], dim=1)\n",
    "x, y = torch.unbind(geometry, dim=1)\n",
    "plt.scatter(x_b, y_b, c='r')\n",
    "plt.scatter(x, y, c='b', alpha=0.1)\n",
    "plt.show()"
   ]
  },
  {
   "cell_type": "code",
   "execution_count": null,
   "metadata": {},
   "outputs": [],
   "source": []
  }
 ],
 "metadata": {
  "kernelspec": {
   "display_name": "torch",
   "language": "python",
   "name": "python3"
  },
  "language_info": {
   "codemirror_mode": {
    "name": "ipython",
    "version": 3
   },
   "file_extension": ".py",
   "mimetype": "text/x-python",
   "name": "python",
   "nbconvert_exporter": "python",
   "pygments_lexer": "ipython3",
   "version": "3.9.16"
  },
  "orig_nbformat": 4
 },
 "nbformat": 4,
 "nbformat_minor": 2
}
