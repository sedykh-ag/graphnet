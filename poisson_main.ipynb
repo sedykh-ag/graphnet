{
 "cells": [
  {
   "cell_type": "code",
   "execution_count": 1,
   "metadata": {},
   "outputs": [],
   "source": [
    "import torch\n",
    "import h5py\n",
    "import matplotlib.pyplot as plt\n",
    "\n",
    "import common\n",
    "from core import *"
   ]
  },
  {
   "cell_type": "code",
   "execution_count": 2,
   "metadata": {},
   "outputs": [
    {
     "name": "stdout",
     "output_type": "stream",
     "text": [
      "torch.Size([81, 2])\n",
      "torch.Size([128, 3])\n",
      "torch.Size([81, 1])\n"
     ]
    }
   ],
   "source": [
    "data = h5py.File(\"data/out_poisson/poisson.h5\")\n",
    "\n",
    "geometry = torch.tensor(data[\"/Mesh/mesh/geometry\"][...], dtype=torch.float32)\n",
    "topology = torch.tensor(data[\"/Mesh/mesh/topology\"][...], dtype=torch.int32)\n",
    "func = torch.tensor(data[\"/Function/f/0\"][...], dtype=torch.float32)\n",
    "\n",
    "print(geometry.shape)\n",
    "print(topology.shape)\n",
    "print(func.shape)"
   ]
  },
  {
   "cell_type": "code",
   "execution_count": 3,
   "metadata": {},
   "outputs": [],
   "source": [
    "def on_boundary(x):\n",
    "    n = x.shape[0]\n",
    "    return torch.isclose(x[:, 0], 0.0*torch.ones(n)) | \\\n",
    "           torch.isclose(x[:, 0], 1.0*torch.ones(n)) | \\\n",
    "           torch.isclose(x[:, 1], 0.0*torch.ones(n)) | \\\n",
    "           torch.isclose(x[:, 1], 1.0*torch.ones(n))"
   ]
  },
  {
   "cell_type": "code",
   "execution_count": 4,
   "metadata": {},
   "outputs": [],
   "source": [
    "# get edges from topology\n",
    "senders, receivers = common.topology_to_edges(topology) # two way connectivity implied\n",
    "senders = senders.long()\n",
    "receivers = receivers.long()\n",
    "\n",
    "# compute mesh distances\n",
    "senders_pos = geometry[senders]\n",
    "receivers_pos = geometry[receivers]\n",
    "mesh_distances = torch.sqrt((senders_pos[:, 0] - receivers_pos[:, 0])**2 + (senders_pos[:, 1] - receivers_pos[:, 1])**2)\n",
    "\n",
    "# create edge set\n",
    "edgeset = EdgeSet(senders.to(device), receivers.to(device), mesh_distances.to(device).view(-1, 1))\n",
    "\n",
    "# create node features\n",
    "node_types = F.one_hot(on_boundary(geometry).long())\n",
    "node_features = torch.cat([node_types, func], dim=1)\n",
    "\n",
    "# create graph\n",
    "graph = MultiGraph(node_features.to(device), edgeset)"
   ]
  },
  {
   "cell_type": "code",
   "execution_count": 5,
   "metadata": {},
   "outputs": [
    {
     "data": {
      "image/png": "[encoded data removed]",
      "text/plain": [
       "<Figure size 640x480 with 1 Axes>"
      ]
     },
     "metadata": {},
     "output_type": "display_data"
    }
   ],
   "source": [
    "# visualise nodes with their types\n",
    "x_b, y_b = torch.unbind(geometry[on_boundary(geometry)], dim=1)\n",
    "x, y = torch.unbind(geometry, dim=1)\n",
    "plt.scatter(x_b, y_b, c='r')\n",
    "plt.scatter(x, y, c='b', alpha=0.1)\n",
    "plt.show()"
   ]
  },
  {
   "cell_type": "code",
   "execution_count": 6,
   "metadata": {},
   "outputs": [],
   "source": [
    "# display solution\n",
    "import pyvista\n",
    "\n",
    "def display_solution(scalar, name):\n",
    "\n",
    "    n_cells = topology.shape[0]\n",
    "    n_points = geometry.shape[0]\n",
    "\n",
    "    cells_vtk = torch.cat([3*torch.ones(n_cells)[:, None], topology], dim=1).int().flatten().numpy()\n",
    "    celltypes = [pyvista.CellType.TRIANGLE] * n_cells\n",
    "    points = torch.cat([geometry, torch.zeros(n_points)[:, None]], dim=1).numpy()\n",
    "\n",
    "    grid = pyvista.UnstructuredGrid(cells_vtk, celltypes, points)\n",
    "    grid.point_data[\"u\"] = scalar.numpy()\n",
    "    grid.set_active_scalars(\"u\")\n",
    "    plotter = pyvista.Plotter()\n",
    "    plotter.add_mesh(grid, show_edges=False)\n",
    "    warped = grid.warp_by_scalar()\n",
    "    plotter.add_mesh(warped)\n",
    "    plotter.screenshot(\"solution/\"+name)\n",
    "\n",
    "display_solution(func, name=\"initial.png\")"
   ]
  },
  {
   "attachments": {},
   "cell_type": "markdown",
   "metadata": {},
   "source": [
    "# Training loop"
   ]
  },
  {
   "cell_type": "code",
   "execution_count": 7,
   "metadata": {},
   "outputs": [],
   "source": [
    "# let's try to do nothing at first\n",
    "def train(model, epochs):\n",
    "    loss_history = []\n",
    "\n",
    "    loss_func = nn.MSELoss()\n",
    "    optimizer = torch.optim.Adam(model.parameters(), lr=0.001)\n",
    "\n",
    "    \n",
    "    for epoch in range(epochs):\n",
    "        graph_init = graph\n",
    "\n",
    "        node_features_exact = graph.node_features[:, -1]  # get only scalar node_features (without one-hot enc)\n",
    "        node_features_pred = model.forward(graph_init).flatten()\n",
    "\n",
    "        loss = loss_func(node_features_pred, node_features_exact)\n",
    "        \n",
    "        optimizer.zero_grad()\n",
    "        loss.backward()\n",
    "        optimizer.step()\n",
    "\n",
    "        print(f\"epoch: {epoch+1}, loss: {loss.item()}\")\n",
    "        loss_history.append(loss.item())\n",
    "    \n",
    "    return loss_history"
   ]
  },
  {
   "cell_type": "code",
   "execution_count": 8,
   "metadata": {},
   "outputs": [],
   "source": [
    "# define graphnet model\n",
    "model = GraphNet(message_passing_steps=15)"
   ]
  },
  {
   "cell_type": "code",
   "execution_count": 10,
   "metadata": {},
   "outputs": [
    {
     "name": "stdout",
     "output_type": "stream",
     "text": [
      "epoch: 1, loss: 0.010588083416223526\n",
      "epoch: 2, loss: 0.03753188997507095\n",
      "epoch: 3, loss: 0.0025887221563607454\n",
      "epoch: 4, loss: 0.007213647942990065\n",
      "epoch: 5, loss: 0.003442558227106929\n",
      "epoch: 6, loss: 0.0026635508984327316\n",
      "epoch: 7, loss: 0.0023171985521912575\n",
      "epoch: 8, loss: 0.001480810227803886\n",
      "epoch: 9, loss: 0.001956361113116145\n",
      "epoch: 10, loss: 0.0012019320856779814\n",
      "epoch: 11, loss: 0.0012563929194584489\n",
      "epoch: 12, loss: 0.0010161325335502625\n",
      "epoch: 13, loss: 0.0010183529229834676\n",
      "epoch: 14, loss: 0.001064639538526535\n",
      "epoch: 15, loss: 0.0008759544580243528\n",
      "epoch: 16, loss: 0.001015694928355515\n",
      "epoch: 17, loss: 0.0009033054811879992\n",
      "epoch: 18, loss: 0.0008962741121649742\n",
      "epoch: 19, loss: 0.0009958514710888267\n",
      "epoch: 20, loss: 0.0008419567020609975\n",
      "epoch: 21, loss: 0.0009094983688555658\n",
      "epoch: 22, loss: 0.0008968192269094288\n",
      "epoch: 23, loss: 0.0008298082393594086\n",
      "epoch: 24, loss: 0.0008916661608964205\n",
      "epoch: 25, loss: 0.0008092972566373646\n",
      "epoch: 26, loss: 0.0008562938310205936\n",
      "epoch: 27, loss: 0.0008248473168350756\n",
      "epoch: 28, loss: 0.0008026922587305307\n",
      "epoch: 29, loss: 0.0008341881912201643\n",
      "epoch: 30, loss: 0.0007731484365649521\n",
      "epoch: 31, loss: 0.0007981573580764234\n",
      "epoch: 32, loss: 0.0007909567793831229\n",
      "epoch: 33, loss: 0.0007417476153932512\n",
      "epoch: 34, loss: 0.0007677500252611935\n",
      "epoch: 35, loss: 0.0007400240283459425\n",
      "epoch: 36, loss: 0.0007099068607203662\n",
      "epoch: 37, loss: 0.0007228782633319497\n",
      "epoch: 38, loss: 0.0006962717743590474\n",
      "epoch: 39, loss: 0.0006594476872123778\n",
      "epoch: 40, loss: 0.0006530201644636691\n",
      "epoch: 41, loss: 0.0006821681745350361\n",
      "epoch: 42, loss: 0.000718762690667063\n",
      "epoch: 43, loss: 0.0007232477655634284\n",
      "epoch: 44, loss: 0.0007657670066691935\n",
      "epoch: 45, loss: 0.0007340533775277436\n",
      "epoch: 46, loss: 0.0007584898266941309\n",
      "epoch: 47, loss: 0.0006276199710555375\n",
      "epoch: 48, loss: 0.0005096624954603612\n",
      "epoch: 49, loss: 0.00044315963168628514\n",
      "epoch: 50, loss: 0.00044291792437434196\n",
      "epoch: 51, loss: 0.0005373600288294256\n",
      "epoch: 52, loss: 0.000889267073944211\n",
      "epoch: 53, loss: 0.0018951317761093378\n",
      "epoch: 54, loss: 0.0005429528537206352\n",
      "epoch: 55, loss: 0.0014663636684417725\n",
      "epoch: 56, loss: 0.0007415384752675891\n",
      "epoch: 57, loss: 0.0011807435657829046\n",
      "epoch: 58, loss: 0.0005509450566023588\n",
      "epoch: 59, loss: 0.0010252749780192971\n",
      "epoch: 60, loss: 0.0006135759758763015\n",
      "epoch: 61, loss: 0.0007497593178413808\n",
      "epoch: 62, loss: 0.0007308593485504389\n",
      "epoch: 63, loss: 0.0005384028190746903\n",
      "epoch: 64, loss: 0.0007056730682961643\n",
      "epoch: 65, loss: 0.00042415657662786543\n",
      "epoch: 66, loss: 0.0006097664590924978\n",
      "epoch: 67, loss: 0.0003378714609425515\n",
      "epoch: 68, loss: 0.0005307641113176942\n",
      "epoch: 69, loss: 0.0003087579389102757\n",
      "epoch: 70, loss: 0.0004283594898879528\n",
      "epoch: 71, loss: 0.00025707093300297856\n",
      "epoch: 72, loss: 0.00033187863300554454\n",
      "epoch: 73, loss: 0.0003577063325792551\n",
      "epoch: 74, loss: 0.00018980095046572387\n",
      "epoch: 75, loss: 0.00043840493890456855\n",
      "epoch: 76, loss: 0.00020125722221564502\n",
      "epoch: 77, loss: 0.00023261926253326237\n",
      "epoch: 78, loss: 0.00032189188641496\n",
      "epoch: 79, loss: 0.00012308493023738265\n",
      "epoch: 80, loss: 0.00022210623137652874\n",
      "epoch: 81, loss: 0.00019038707250729203\n",
      "epoch: 82, loss: 0.00010299314453732222\n",
      "epoch: 83, loss: 0.00018575155991129577\n",
      "epoch: 84, loss: 0.00010262384603265673\n",
      "epoch: 85, loss: 0.00010018664761446416\n",
      "epoch: 86, loss: 0.00015890918439254165\n",
      "epoch: 87, loss: 0.00010382528853369877\n",
      "epoch: 88, loss: 4.4177508243592456e-05\n",
      "epoch: 89, loss: 7.209584873635322e-05\n",
      "epoch: 90, loss: 0.00018502245075069368\n",
      "epoch: 91, loss: 0.00035202971776016057\n",
      "epoch: 92, loss: 0.0003012020606547594\n",
      "epoch: 93, loss: 7.359600567724556e-05\n",
      "epoch: 94, loss: 0.0001140577660407871\n",
      "epoch: 95, loss: 0.00010822443437064067\n",
      "epoch: 96, loss: 6.65497500449419e-05\n",
      "epoch: 97, loss: 0.00010922100773314014\n",
      "epoch: 98, loss: 6.0123955336166546e-05\n",
      "epoch: 99, loss: 0.00010452470451127738\n",
      "epoch: 100, loss: 3.77036994905211e-05\n"
     ]
    }
   ],
   "source": [
    "# train graphnet model\n",
    "loss_history = train(model, epochs=100)"
   ]
  },
  {
   "cell_type": "code",
   "execution_count": 11,
   "metadata": {},
   "outputs": [
    {
     "data": {
      "text/plain": [
       "[<matplotlib.lines.Line2D at 0x7fd8d97fad90>]"
      ]
     },
     "execution_count": 11,
     "metadata": {},
     "output_type": "execute_result"
    },
    {
     "data": {
      "image/png": "[encoded data removed]",
      "text/plain": [
       "<Figure size 640x480 with 1 Axes>"
      ]
     },
     "metadata": {},
     "output_type": "display_data"
    }
   ],
   "source": [
    "plt.plot(loss_history)"
   ]
  },
  {
   "cell_type": "code",
   "execution_count": 18,
   "metadata": {},
   "outputs": [],
   "source": [
    "with torch.no_grad():\n",
    "    scalar_pred = model.forward(graph).cpu()\n",
    "display_solution(scalar_pred, name=\"solution.png\")"
   ]
  },
  {
   "cell_type": "code",
   "execution_count": null,
   "metadata": {},
   "outputs": [],
   "source": []
  }
 ],
 "metadata": {
  "kernelspec": {
   "display_name": "Python 3 (ipykernel)",
   "language": "python",
   "name": "python3"
  },
  "language_info": {
   "codemirror_mode": {
    "name": "ipython",
    "version": 3
   },
   "file_extension": ".py",
   "mimetype": "text/x-python",
   "name": "python",
   "nbconvert_exporter": "python",
   "pygments_lexer": "ipython3",
   "version": "3.9.16"
  }
 },
 "nbformat": 4,
 "nbformat_minor": 2
}
