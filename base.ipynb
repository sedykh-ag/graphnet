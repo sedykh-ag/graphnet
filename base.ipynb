{
 "cells": [
  {
   "cell_type": "code",
   "execution_count": 13,
   "id": "8f73e1ba",
   "metadata": {},
   "outputs": [],
   "source": [
    "import torch\n",
    "from torch import nn\n",
    "import torch.nn.functional as F\n",
    "import collections\n",
    "import copy"
   ]
  },
  {
   "cell_type": "markdown",
   "id": "6b5c2a7f",
   "metadata": {},
   "source": [
    "# Encoder"
   ]
  },
  {
   "cell_type": "markdown",
   "id": "28c5583a",
   "metadata": {},
   "source": [
    "edges"
   ]
  },
  {
   "cell_type": "code",
   "execution_count": 36,
   "id": "ac594597",
   "metadata": {},
   "outputs": [],
   "source": [
    "n_edges = 5\n",
    "edge_features = torch.tensor([1.0, 2.0, 1.0, 1.0, 2.0])[:, None] # relative positions features\n",
    "adjacency_list = [[0, 3], [1, 2], [2, 3], [2, 4], [3, 4]]"
   ]
  },
  {
   "cell_type": "markdown",
   "id": "f5257046",
   "metadata": {},
   "source": [
    "nodes"
   ]
  },
  {
   "cell_type": "code",
   "execution_count": 37,
   "id": "9d1ba61e",
   "metadata": {},
   "outputs": [],
   "source": [
    "n_nodes = 5\n",
    "# nodes are counted from 0\n",
    "# features desciption\n",
    "node_types = torch.tensor([1, 1, 0, 0, 0]) # 0 - interior, 1 - boundary\n",
    "node_fields = torch.tensor([1.0, 2.0, 3.0, 4.0, 5.0])[:, None] # field values\n",
    "node_features = node_fields"
   ]
  },
  {
   "cell_type": "markdown",
   "id": "da1150ea",
   "metadata": {},
   "source": [
    "dimensions"
   ]
  },
  {
   "cell_type": "code",
   "execution_count": 38,
   "id": "305cea82",
   "metadata": {},
   "outputs": [
    {
     "data": {
      "text/plain": [
       "(1, 1)"
      ]
     },
     "execution_count": 38,
     "metadata": {},
     "output_type": "execute_result"
    }
   ],
   "source": [
    "node_dim = 1\n",
    "edge_dim = 1\n",
    "(node_dim, edge_dim)"
   ]
  },
  {
   "cell_type": "markdown",
   "id": "5a9925ae",
   "metadata": {},
   "source": [
    "collections"
   ]
  },
  {
   "cell_type": "code",
   "execution_count": 39,
   "id": "31024965",
   "metadata": {},
   "outputs": [],
   "source": [
    "NodeSet = collections.namedtuple('NodeSet', ['N', 'node_types', 'features'])\n",
    "EdgeSet = collections.namedtuple('EdgeSet', ['N', 'adjacency_list', 'features'])\n",
    "MultiGraph = collections.namedtuple('Graph', ['node_set', 'edge_set'])"
   ]
  },
  {
   "cell_type": "code",
   "execution_count": 40,
   "id": "3c67067e",
   "metadata": {},
   "outputs": [],
   "source": [
    "node_set = NodeSet(n_nodes, node_types, node_features)\n",
    "edge_set = EdgeSet(n_edges, adjacency_list, edge_features)\n",
    "graph = MultiGraph(node_set, edge_set)"
   ]
  },
  {
   "cell_type": "markdown",
   "id": "9a1f106f",
   "metadata": {},
   "source": [
    "# Processor"
   ]
  },
  {
   "cell_type": "code",
   "execution_count": 41,
   "id": "5dfa8c98",
   "metadata": {},
   "outputs": [],
   "source": [
    "class StaticProcessor():\n",
    "    def __init__(self, graph):\n",
    "        self.graph = copy.deepcopy(graph)\n",
    "        \n",
    "        self.node_net = nn.Sequential(nn.Linear(node_dim + edge_dim, 10),\n",
    "                                      nn.SiLU(),\n",
    "                                      nn.Linear(10, node_dim))\n",
    "    \n",
    "    def update_nodes(self):\n",
    "        edge_set = self.graph.edge_set\n",
    "        node_set = self.graph.node_set\n",
    "        \n",
    "        for i in range(node_set.N):\n",
    "            \n",
    "            \n",
    "            \n",
    "            agg_edges = torch.zeros(edge_dim)\n",
    "            \n",
    "            for j in range(edge_set.N):\n",
    "                if i in edge_set.adjacency_list[j]:\n",
    "                    agg_edges += edge_set.features[j]\n",
    "            \n",
    "            X = torch.cat([node_set.features[i], agg_edges])\n",
    "            \n",
    "            node_set.features[i] = self.node_net(X)\n",
    "    \n",
    "    def forward(self):\n",
    "        self.update_nodes()\n",
    "        \n",
    "        return self.graph"
   ]
  },
  {
   "cell_type": "code",
   "execution_count": null,
   "id": "1e181b31",
   "metadata": {},
   "outputs": [],
   "source": []
  }
 ],
 "metadata": {
  "kernelspec": {
   "display_name": "Python 3 (ipykernel)",
   "language": "python",
   "name": "python3"
  },
  "language_info": {
   "codemirror_mode": {
    "name": "ipython",
    "version": 3
   },
   "file_extension": ".py",
   "mimetype": "text/x-python",
   "name": "python",
   "nbconvert_exporter": "python",
   "pygments_lexer": "ipython3",
   "version": "3.9.16"
  }
 },
 "nbformat": 4,
 "nbformat_minor": 5
}
